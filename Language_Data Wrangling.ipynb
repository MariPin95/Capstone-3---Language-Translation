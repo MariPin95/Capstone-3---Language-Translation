{
 "cells": [
  {
   "cell_type": "markdown",
   "id": "8190dd61",
   "metadata": {},
   "source": [
    "# Language Translation Using Recurring Neural Networks"
   ]
  },
  {
   "cell_type": "markdown",
   "id": "403a940d",
   "metadata": {},
   "source": [
    "### Data Loading "
   ]
  },
  {
   "cell_type": "code",
   "execution_count": 1,
   "id": "1a7af4e2",
   "metadata": {},
   "outputs": [],
   "source": [
    "import pandas as pd\n",
    "import os\n",
    "import warnings\n",
    "warnings.filterwarnings(\"ignore\")"
   ]
  },
  {
   "cell_type": "code",
   "execution_count": 2,
   "id": "78f29811",
   "metadata": {},
   "outputs": [
    {
     "name": "stdout",
     "output_type": "stream",
     "text": [
      "/Capstone/Data\\EN-DE\\EN-DE.txt\n",
      "/Capstone/Data\\EN-ES\\EN-ES.txt\n"
     ]
    }
   ],
   "source": [
    "for dirname, _, filenames in os.walk('/Capstone/Data'):\n",
    "    for filename in filenames:\n",
    "        print(os.path.join(dirname, filename))"
   ]
  },
  {
   "cell_type": "code",
   "execution_count": 3,
   "id": "9b160ef3",
   "metadata": {},
   "outputs": [],
   "source": [
    "CD = \"/Capstone/Data/\""
   ]
  },
  {
   "cell_type": "code",
   "execution_count": 4,
   "id": "7dea8360",
   "metadata": {},
   "outputs": [],
   "source": [
    "SL = 'EN'"
   ]
  },
  {
   "cell_type": "code",
   "execution_count": 5,
   "id": "50ba1704",
   "metadata": {},
   "outputs": [],
   "source": [
    "TL_DE = 'DE'"
   ]
  },
  {
   "cell_type": "code",
   "execution_count": 6,
   "id": "57f9902f",
   "metadata": {},
   "outputs": [],
   "source": [
    "TL_ES = 'ES'"
   ]
  },
  {
   "cell_type": "code",
   "execution_count": 7,
   "id": "0c3f9695",
   "metadata": {},
   "outputs": [],
   "source": [
    "EN_DE = pd.read_csv(CD+SL+'-'+TL_DE+'/'+SL+'-'+TL_DE+'.txt', sep='\\t', header = None)[[0,1]].rename(columns = {0:SL, 1:TL_DE})"
   ]
  },
  {
   "cell_type": "code",
   "execution_count": 8,
   "id": "9b2aa450",
   "metadata": {},
   "outputs": [],
   "source": [
    "EN_ES = pd.read_csv(CD+SL+'-'+TL_ES+'/'+SL+'-'+TL_ES+'.txt', sep='\\t', header = None)[[0,1]].rename(columns = {0:SL, 1:TL_ES})"
   ]
  },
  {
   "cell_type": "code",
   "execution_count": 9,
   "id": "0dfd029e",
   "metadata": {},
   "outputs": [
    {
     "data": {
      "text/html": [
       "<div>\n",
       "<style scoped>\n",
       "    .dataframe tbody tr th:only-of-type {\n",
       "        vertical-align: middle;\n",
       "    }\n",
       "\n",
       "    .dataframe tbody tr th {\n",
       "        vertical-align: top;\n",
       "    }\n",
       "\n",
       "    .dataframe thead th {\n",
       "        text-align: right;\n",
       "    }\n",
       "</style>\n",
       "<table border=\"1\" class=\"dataframe\">\n",
       "  <thead>\n",
       "    <tr style=\"text-align: right;\">\n",
       "      <th></th>\n",
       "      <th>EN</th>\n",
       "      <th>DE</th>\n",
       "    </tr>\n",
       "  </thead>\n",
       "  <tbody>\n",
       "    <tr>\n",
       "      <th>0</th>\n",
       "      <td>Commission Regulation (EC) No 1788/2004</td>\n",
       "      <td>Verordnung (EG) Nr. 1788/2004 der Kommission</td>\n",
       "    </tr>\n",
       "    <tr>\n",
       "      <th>1</th>\n",
       "      <td>of 15 October 2004</td>\n",
       "      <td>vom 15. Oktober 2004</td>\n",
       "    </tr>\n",
       "    <tr>\n",
       "      <th>2</th>\n",
       "      <td>fixing the minimum selling prices for butter f...</td>\n",
       "      <td>zur Festsetzung der Mindestverkaufspreise für ...</td>\n",
       "    </tr>\n",
       "    <tr>\n",
       "      <th>3</th>\n",
       "      <td>THE COMMISSION OF THE EUROPEAN COMMUNITIES,</td>\n",
       "      <td>DIE KOMMISSION DER EUROPÄISCHEN GEMEINSCHAFTEN —</td>\n",
       "    </tr>\n",
       "    <tr>\n",
       "      <th>4</th>\n",
       "      <td>Having regard to the Treaty establishing the E...</td>\n",
       "      <td>gestützt auf den Vertrag zur Gründung der Euro...</td>\n",
       "    </tr>\n",
       "  </tbody>\n",
       "</table>\n",
       "</div>"
      ],
      "text/plain": [
       "                                                  EN  \\\n",
       "0            Commission Regulation (EC) No 1788/2004   \n",
       "1                                 of 15 October 2004   \n",
       "2  fixing the minimum selling prices for butter f...   \n",
       "3        THE COMMISSION OF THE EUROPEAN COMMUNITIES,   \n",
       "4  Having regard to the Treaty establishing the E...   \n",
       "\n",
       "                                                  DE  \n",
       "0       Verordnung (EG) Nr. 1788/2004 der Kommission  \n",
       "1                               vom 15. Oktober 2004  \n",
       "2  zur Festsetzung der Mindestverkaufspreise für ...  \n",
       "3   DIE KOMMISSION DER EUROPÄISCHEN GEMEINSCHAFTEN —  \n",
       "4  gestützt auf den Vertrag zur Gründung der Euro...  "
      ]
     },
     "execution_count": 9,
     "metadata": {},
     "output_type": "execute_result"
    }
   ],
   "source": [
    "EN_DE.head()"
   ]
  },
  {
   "cell_type": "code",
   "execution_count": 10,
   "id": "fad53a22",
   "metadata": {},
   "outputs": [
    {
     "data": {
      "text/html": [
       "<div>\n",
       "<style scoped>\n",
       "    .dataframe tbody tr th:only-of-type {\n",
       "        vertical-align: middle;\n",
       "    }\n",
       "\n",
       "    .dataframe tbody tr th {\n",
       "        vertical-align: top;\n",
       "    }\n",
       "\n",
       "    .dataframe thead th {\n",
       "        text-align: right;\n",
       "    }\n",
       "</style>\n",
       "<table border=\"1\" class=\"dataframe\">\n",
       "  <thead>\n",
       "    <tr style=\"text-align: right;\">\n",
       "      <th></th>\n",
       "      <th>EN</th>\n",
       "      <th>ES</th>\n",
       "    </tr>\n",
       "  </thead>\n",
       "  <tbody>\n",
       "    <tr>\n",
       "      <th>0</th>\n",
       "      <td>Commission Regulation (EC) No 1788/2004</td>\n",
       "      <td>Reglamento (CE) no 1788/2004 de la Comisión</td>\n",
       "    </tr>\n",
       "    <tr>\n",
       "      <th>1</th>\n",
       "      <td>of 15 October 2004</td>\n",
       "      <td>de 15 de octubre de 2004</td>\n",
       "    </tr>\n",
       "    <tr>\n",
       "      <th>2</th>\n",
       "      <td>fixing the minimum selling prices for butter f...</td>\n",
       "      <td>por el que se fijan los precios mínimos de ven...</td>\n",
       "    </tr>\n",
       "    <tr>\n",
       "      <th>3</th>\n",
       "      <td>THE COMMISSION OF THE EUROPEAN COMMUNITIES,</td>\n",
       "      <td>LA COMISIÓN DE LAS COMUNIDADES EUROPEAS,</td>\n",
       "    </tr>\n",
       "    <tr>\n",
       "      <th>4</th>\n",
       "      <td>Having regard to the Treaty establishing the E...</td>\n",
       "      <td>Visto el Tratado constitutivo de la Comunidad ...</td>\n",
       "    </tr>\n",
       "  </tbody>\n",
       "</table>\n",
       "</div>"
      ],
      "text/plain": [
       "                                                  EN  \\\n",
       "0            Commission Regulation (EC) No 1788/2004   \n",
       "1                                 of 15 October 2004   \n",
       "2  fixing the minimum selling prices for butter f...   \n",
       "3        THE COMMISSION OF THE EUROPEAN COMMUNITIES,   \n",
       "4  Having regard to the Treaty establishing the E...   \n",
       "\n",
       "                                                  ES  \n",
       "0        Reglamento (CE) no 1788/2004 de la Comisión  \n",
       "1                           de 15 de octubre de 2004  \n",
       "2  por el que se fijan los precios mínimos de ven...  \n",
       "3           LA COMISIÓN DE LAS COMUNIDADES EUROPEAS,  \n",
       "4  Visto el Tratado constitutivo de la Comunidad ...  "
      ]
     },
     "execution_count": 10,
     "metadata": {},
     "output_type": "execute_result"
    }
   ],
   "source": [
    "EN_ES.head()"
   ]
  },
  {
   "cell_type": "code",
   "execution_count": 11,
   "id": "e67a45ed",
   "metadata": {},
   "outputs": [
    {
     "data": {
      "text/plain": [
       "(5693624, 2)"
      ]
     },
     "execution_count": 11,
     "metadata": {},
     "output_type": "execute_result"
    }
   ],
   "source": [
    "EN_DE.shape"
   ]
  },
  {
   "cell_type": "code",
   "execution_count": 12,
   "id": "b5161039",
   "metadata": {},
   "outputs": [
    {
     "data": {
      "text/plain": [
       "(5696850, 2)"
      ]
     },
     "execution_count": 12,
     "metadata": {},
     "output_type": "execute_result"
    }
   ],
   "source": [
    "EN_ES.shape"
   ]
  },
  {
   "cell_type": "code",
   "execution_count": 13,
   "id": "8349cd27",
   "metadata": {},
   "outputs": [
    {
     "name": "stdout",
     "output_type": "stream",
     "text": [
      "<class 'pandas.core.frame.DataFrame'>\n",
      "RangeIndex: 5693624 entries, 0 to 5693623\n",
      "Data columns (total 2 columns):\n",
      " #   Column  Dtype \n",
      "---  ------  ----- \n",
      " 0   EN      object\n",
      " 1   DE      object\n",
      "dtypes: object(2)\n",
      "memory usage: 86.9+ MB\n"
     ]
    }
   ],
   "source": [
    "EN_DE.info()"
   ]
  },
  {
   "cell_type": "code",
   "execution_count": 14,
   "id": "8e57ab24",
   "metadata": {},
   "outputs": [
    {
     "name": "stdout",
     "output_type": "stream",
     "text": [
      "<class 'pandas.core.frame.DataFrame'>\n",
      "RangeIndex: 5696850 entries, 0 to 5696849\n",
      "Data columns (total 2 columns):\n",
      " #   Column  Dtype \n",
      "---  ------  ----- \n",
      " 0   EN      object\n",
      " 1   ES      object\n",
      "dtypes: object(2)\n",
      "memory usage: 86.9+ MB\n"
     ]
    }
   ],
   "source": [
    "EN_ES.info()"
   ]
  },
  {
   "cell_type": "markdown",
   "id": "31ff8901",
   "metadata": {},
   "source": [
    "### Data Cleaning"
   ]
  },
  {
   "cell_type": "code",
   "execution_count": 15,
   "id": "9c540a64",
   "metadata": {},
   "outputs": [
    {
     "data": {
      "text/html": [
       "<div>\n",
       "<style scoped>\n",
       "    .dataframe tbody tr th:only-of-type {\n",
       "        vertical-align: middle;\n",
       "    }\n",
       "\n",
       "    .dataframe tbody tr th {\n",
       "        vertical-align: top;\n",
       "    }\n",
       "\n",
       "    .dataframe thead th {\n",
       "        text-align: right;\n",
       "    }\n",
       "</style>\n",
       "<table border=\"1\" class=\"dataframe\">\n",
       "  <thead>\n",
       "    <tr style=\"text-align: right;\">\n",
       "      <th></th>\n",
       "      <th>count</th>\n",
       "      <th>%</th>\n",
       "    </tr>\n",
       "  </thead>\n",
       "  <tbody>\n",
       "    <tr>\n",
       "      <th>EN</th>\n",
       "      <td>134</td>\n",
       "      <td>0.002354</td>\n",
       "    </tr>\n",
       "    <tr>\n",
       "      <th>DE</th>\n",
       "      <td>4</td>\n",
       "      <td>0.000070</td>\n",
       "    </tr>\n",
       "  </tbody>\n",
       "</table>\n",
       "</div>"
      ],
      "text/plain": [
       "    count         %\n",
       "EN    134  0.002354\n",
       "DE      4  0.000070"
      ]
     },
     "execution_count": 15,
     "metadata": {},
     "output_type": "execute_result"
    }
   ],
   "source": [
    "missing_DE = pd.concat([EN_DE.isnull().sum(), 100 * EN_DE.isnull().mean()], axis=1)\n",
    "missing_DE.columns=['count', '%']\n",
    "missing_DE.sort_values(by= ['count','%'], ascending=False)"
   ]
  },
  {
   "cell_type": "code",
   "execution_count": 16,
   "id": "09a7658a",
   "metadata": {},
   "outputs": [
    {
     "data": {
      "text/html": [
       "<div>\n",
       "<style scoped>\n",
       "    .dataframe tbody tr th:only-of-type {\n",
       "        vertical-align: middle;\n",
       "    }\n",
       "\n",
       "    .dataframe tbody tr th {\n",
       "        vertical-align: top;\n",
       "    }\n",
       "\n",
       "    .dataframe thead th {\n",
       "        text-align: right;\n",
       "    }\n",
       "</style>\n",
       "<table border=\"1\" class=\"dataframe\">\n",
       "  <thead>\n",
       "    <tr style=\"text-align: right;\">\n",
       "      <th></th>\n",
       "      <th>count</th>\n",
       "      <th>%</th>\n",
       "    </tr>\n",
       "  </thead>\n",
       "  <tbody>\n",
       "    <tr>\n",
       "      <th>EN</th>\n",
       "      <td>130</td>\n",
       "      <td>0.002282</td>\n",
       "    </tr>\n",
       "    <tr>\n",
       "      <th>ES</th>\n",
       "      <td>2</td>\n",
       "      <td>0.000035</td>\n",
       "    </tr>\n",
       "  </tbody>\n",
       "</table>\n",
       "</div>"
      ],
      "text/plain": [
       "    count         %\n",
       "EN    130  0.002282\n",
       "ES      2  0.000035"
      ]
     },
     "execution_count": 16,
     "metadata": {},
     "output_type": "execute_result"
    }
   ],
   "source": [
    "missing_ES = pd.concat([EN_ES.isnull().sum(), 100 * EN_ES.isnull().mean()], axis=1)\n",
    "missing_ES.columns=['count', '%']\n",
    "missing_ES.sort_values(by= ['count','%'], ascending=False)"
   ]
  },
  {
   "cell_type": "code",
   "execution_count": 17,
   "id": "dba9d2e1",
   "metadata": {},
   "outputs": [],
   "source": [
    "EN_DE.dropna(inplace = True)"
   ]
  },
  {
   "cell_type": "code",
   "execution_count": 18,
   "id": "7f59bcb3",
   "metadata": {},
   "outputs": [
    {
     "data": {
      "text/plain": [
       "EN    0\n",
       "DE    0\n",
       "dtype: int64"
      ]
     },
     "execution_count": 18,
     "metadata": {},
     "output_type": "execute_result"
    }
   ],
   "source": [
    "EN_DE.isna().sum()"
   ]
  },
  {
   "cell_type": "code",
   "execution_count": 19,
   "id": "9f27e10d",
   "metadata": {},
   "outputs": [
    {
     "data": {
      "text/plain": [
       "(5693487, 2)"
      ]
     },
     "execution_count": 19,
     "metadata": {},
     "output_type": "execute_result"
    }
   ],
   "source": [
    "EN_DE.shape"
   ]
  },
  {
   "cell_type": "code",
   "execution_count": 20,
   "id": "958518b0",
   "metadata": {},
   "outputs": [],
   "source": [
    "EN_ES.dropna(inplace = True)"
   ]
  },
  {
   "cell_type": "code",
   "execution_count": 21,
   "id": "b0d18240",
   "metadata": {},
   "outputs": [
    {
     "data": {
      "text/plain": [
       "EN    0\n",
       "ES    0\n",
       "dtype: int64"
      ]
     },
     "execution_count": 21,
     "metadata": {},
     "output_type": "execute_result"
    }
   ],
   "source": [
    "EN_ES.isna().sum()"
   ]
  },
  {
   "cell_type": "code",
   "execution_count": 33,
   "id": "978742df",
   "metadata": {},
   "outputs": [],
   "source": [
    "EN_DE_sample = pd.DataFrame(EN_DE.loc[0:50000, :])\n",
    "EN_ES_sample = pd.DataFrame(EN_ES.loc[0:50000, :])"
   ]
  },
  {
   "cell_type": "code",
   "execution_count": 26,
   "id": "7ca68553",
   "metadata": {},
   "outputs": [
    {
     "data": {
      "text/plain": [
       "EN    object\n",
       "DE    object\n",
       "dtype: object"
      ]
     },
     "execution_count": 26,
     "metadata": {},
     "output_type": "execute_result"
    }
   ],
   "source": [
    "EN_DE_sample.dtypes"
   ]
  },
  {
   "cell_type": "code",
   "execution_count": 34,
   "id": "5dcfcdc8",
   "metadata": {},
   "outputs": [],
   "source": [
    "langs = ['EN', 'DE']\n",
    "\n",
    "for i in langs:\n",
    "    EN_DE_sample[i] = EN_DE_sample[i].str.lower().str.split()"
   ]
  },
  {
   "cell_type": "code",
   "execution_count": 35,
   "id": "052e9890",
   "metadata": {},
   "outputs": [],
   "source": [
    "langs = ['EN', 'ES']\n",
    "\n",
    "for i in langs:\n",
    "    EN_ES_sample[i] = EN_ES_sample[i].str.lower().str.split()"
   ]
  },
  {
   "cell_type": "markdown",
   "id": "335654c7",
   "metadata": {},
   "source": [
    "### Data Enriching "
   ]
  },
  {
   "cell_type": "code",
   "execution_count": 30,
   "id": "2427ebfe",
   "metadata": {},
   "outputs": [],
   "source": [
    "from collections import Counter"
   ]
  },
  {
   "cell_type": "code",
   "execution_count": 36,
   "id": "5a2358c7",
   "metadata": {},
   "outputs": [],
   "source": [
    "EN_DE_sample['ENCounter'] = EN_DE_sample['EN'].apply(set).apply(len)\n",
    "EN_DE_sample['DECounter'] = EN_DE_sample['DE'].apply(set).apply(len)\n",
    "EN_DE_sample['CountDiff'] = pd.Series.abs(EN_DE_sample['ENCounter'] - EN_DE_sample['DECounter'])"
   ]
  },
  {
   "cell_type": "code",
   "execution_count": 37,
   "id": "6b21b9d3",
   "metadata": {},
   "outputs": [
    {
     "data": {
      "text/html": [
       "<div>\n",
       "<style scoped>\n",
       "    .dataframe tbody tr th:only-of-type {\n",
       "        vertical-align: middle;\n",
       "    }\n",
       "\n",
       "    .dataframe tbody tr th {\n",
       "        vertical-align: top;\n",
       "    }\n",
       "\n",
       "    .dataframe thead th {\n",
       "        text-align: right;\n",
       "    }\n",
       "</style>\n",
       "<table border=\"1\" class=\"dataframe\">\n",
       "  <thead>\n",
       "    <tr style=\"text-align: right;\">\n",
       "      <th></th>\n",
       "      <th>EN</th>\n",
       "      <th>DE</th>\n",
       "      <th>ENCounter</th>\n",
       "      <th>DECounter</th>\n",
       "      <th>CountDiff</th>\n",
       "    </tr>\n",
       "  </thead>\n",
       "  <tbody>\n",
       "    <tr>\n",
       "      <th>0</th>\n",
       "      <td>[commission, regulation, (ec), no, 1788/2004]</td>\n",
       "      <td>[verordnung, (eg), nr., 1788/2004, der, kommis...</td>\n",
       "      <td>5</td>\n",
       "      <td>6</td>\n",
       "      <td>1</td>\n",
       "    </tr>\n",
       "    <tr>\n",
       "      <th>1</th>\n",
       "      <td>[of, 15, october, 2004]</td>\n",
       "      <td>[vom, 15., oktober, 2004]</td>\n",
       "      <td>4</td>\n",
       "      <td>4</td>\n",
       "      <td>0</td>\n",
       "    </tr>\n",
       "    <tr>\n",
       "      <th>2</th>\n",
       "      <td>[fixing, the, minimum, selling, prices, for, b...</td>\n",
       "      <td>[zur, festsetzung, der, mindestverkaufspreise,...</td>\n",
       "      <td>20</td>\n",
       "      <td>17</td>\n",
       "      <td>3</td>\n",
       "    </tr>\n",
       "    <tr>\n",
       "      <th>3</th>\n",
       "      <td>[the, commission, of, the, european, communiti...</td>\n",
       "      <td>[die, kommission, der, europäischen, gemeinsch...</td>\n",
       "      <td>5</td>\n",
       "      <td>6</td>\n",
       "      <td>1</td>\n",
       "    </tr>\n",
       "    <tr>\n",
       "      <th>4</th>\n",
       "      <td>[having, regard, to, the, treaty, establishing...</td>\n",
       "      <td>[gestützt, auf, den, vertrag, zur, gründung, d...</td>\n",
       "      <td>8</td>\n",
       "      <td>9</td>\n",
       "      <td>1</td>\n",
       "    </tr>\n",
       "  </tbody>\n",
       "</table>\n",
       "</div>"
      ],
      "text/plain": [
       "                                                  EN  \\\n",
       "0      [commission, regulation, (ec), no, 1788/2004]   \n",
       "1                            [of, 15, october, 2004]   \n",
       "2  [fixing, the, minimum, selling, prices, for, b...   \n",
       "3  [the, commission, of, the, european, communiti...   \n",
       "4  [having, regard, to, the, treaty, establishing...   \n",
       "\n",
       "                                                  DE  ENCounter  DECounter  \\\n",
       "0  [verordnung, (eg), nr., 1788/2004, der, kommis...          5          6   \n",
       "1                          [vom, 15., oktober, 2004]          4          4   \n",
       "2  [zur, festsetzung, der, mindestverkaufspreise,...         20         17   \n",
       "3  [die, kommission, der, europäischen, gemeinsch...          5          6   \n",
       "4  [gestützt, auf, den, vertrag, zur, gründung, d...          8          9   \n",
       "\n",
       "   CountDiff  \n",
       "0          1  \n",
       "1          0  \n",
       "2          3  \n",
       "3          1  \n",
       "4          1  "
      ]
     },
     "execution_count": 37,
     "metadata": {},
     "output_type": "execute_result"
    }
   ],
   "source": [
    "EN_DE_sample.head()"
   ]
  },
  {
   "cell_type": "code",
   "execution_count": 38,
   "id": "c92d9fcc",
   "metadata": {},
   "outputs": [],
   "source": [
    "EN_ES_sample['ENCounter'] = EN_ES_sample['EN'].apply(set).apply(len)\n",
    "EN_ES_sample['ESCounter'] = EN_ES_sample['ES'].apply(set).apply(len)\n",
    "EN_ES_sample['CountDiff'] = pd.Series.abs(EN_ES_sample['ENCounter'] - EN_ES_sample['ESCounter'])"
   ]
  },
  {
   "cell_type": "code",
   "execution_count": 40,
   "id": "e7278684",
   "metadata": {},
   "outputs": [
    {
     "data": {
      "text/html": [
       "<div>\n",
       "<style scoped>\n",
       "    .dataframe tbody tr th:only-of-type {\n",
       "        vertical-align: middle;\n",
       "    }\n",
       "\n",
       "    .dataframe tbody tr th {\n",
       "        vertical-align: top;\n",
       "    }\n",
       "\n",
       "    .dataframe thead th {\n",
       "        text-align: right;\n",
       "    }\n",
       "</style>\n",
       "<table border=\"1\" class=\"dataframe\">\n",
       "  <thead>\n",
       "    <tr style=\"text-align: right;\">\n",
       "      <th></th>\n",
       "      <th>EN</th>\n",
       "      <th>ES</th>\n",
       "      <th>ENCounter</th>\n",
       "      <th>ESCounter</th>\n",
       "      <th>CountDiff</th>\n",
       "    </tr>\n",
       "  </thead>\n",
       "  <tbody>\n",
       "    <tr>\n",
       "      <th>0</th>\n",
       "      <td>[commission, regulation, (ec), no, 1788/2004]</td>\n",
       "      <td>[reglamento, (ce), no, 1788/2004, de, la, comi...</td>\n",
       "      <td>5</td>\n",
       "      <td>7</td>\n",
       "      <td>2</td>\n",
       "    </tr>\n",
       "    <tr>\n",
       "      <th>1</th>\n",
       "      <td>[of, 15, october, 2004]</td>\n",
       "      <td>[de, 15, de, octubre, de, 2004]</td>\n",
       "      <td>4</td>\n",
       "      <td>4</td>\n",
       "      <td>0</td>\n",
       "    </tr>\n",
       "    <tr>\n",
       "      <th>2</th>\n",
       "      <td>[fixing, the, minimum, selling, prices, for, b...</td>\n",
       "      <td>[por, el, que, se, fijan, los, precios, mínimo...</td>\n",
       "      <td>20</td>\n",
       "      <td>25</td>\n",
       "      <td>5</td>\n",
       "    </tr>\n",
       "    <tr>\n",
       "      <th>3</th>\n",
       "      <td>[the, commission, of, the, european, communiti...</td>\n",
       "      <td>[la, comisión, de, las, comunidades, europeas,]</td>\n",
       "      <td>5</td>\n",
       "      <td>6</td>\n",
       "      <td>1</td>\n",
       "    </tr>\n",
       "    <tr>\n",
       "      <th>4</th>\n",
       "      <td>[having, regard, to, the, treaty, establishing...</td>\n",
       "      <td>[visto, el, tratado, constitutivo, de, la, com...</td>\n",
       "      <td>8</td>\n",
       "      <td>8</td>\n",
       "      <td>0</td>\n",
       "    </tr>\n",
       "  </tbody>\n",
       "</table>\n",
       "</div>"
      ],
      "text/plain": [
       "                                                  EN  \\\n",
       "0      [commission, regulation, (ec), no, 1788/2004]   \n",
       "1                            [of, 15, october, 2004]   \n",
       "2  [fixing, the, minimum, selling, prices, for, b...   \n",
       "3  [the, commission, of, the, european, communiti...   \n",
       "4  [having, regard, to, the, treaty, establishing...   \n",
       "\n",
       "                                                  ES  ENCounter  ESCounter  \\\n",
       "0  [reglamento, (ce), no, 1788/2004, de, la, comi...          5          7   \n",
       "1                    [de, 15, de, octubre, de, 2004]          4          4   \n",
       "2  [por, el, que, se, fijan, los, precios, mínimo...         20         25   \n",
       "3    [la, comisión, de, las, comunidades, europeas,]          5          6   \n",
       "4  [visto, el, tratado, constitutivo, de, la, com...          8          8   \n",
       "\n",
       "   CountDiff  \n",
       "0          2  \n",
       "1          0  \n",
       "2          5  \n",
       "3          1  \n",
       "4          0  "
      ]
     },
     "execution_count": 40,
     "metadata": {},
     "output_type": "execute_result"
    }
   ],
   "source": [
    "EN_ES_sample.head()"
   ]
  }
 ],
 "metadata": {
  "kernelspec": {
   "display_name": "Python 3",
   "language": "python",
   "name": "python3"
  },
  "language_info": {
   "codemirror_mode": {
    "name": "ipython",
    "version": 3
   },
   "file_extension": ".py",
   "mimetype": "text/x-python",
   "name": "python",
   "nbconvert_exporter": "python",
   "pygments_lexer": "ipython3",
   "version": "3.8.8"
  }
 },
 "nbformat": 4,
 "nbformat_minor": 5
}
