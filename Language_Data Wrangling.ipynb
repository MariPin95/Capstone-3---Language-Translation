{
 "cells": [
  {
   "cell_type": "markdown",
   "id": "8190dd61",
   "metadata": {},
   "source": [
    "# Language Translation Using Recurring Neural Networks"
   ]
  },
  {
   "cell_type": "markdown",
   "id": "403a940d",
   "metadata": {},
   "source": [
    "### Data Loading "
   ]
  },
  {
   "cell_type": "code",
   "execution_count": 3,
   "id": "1a7af4e2",
   "metadata": {},
   "outputs": [],
   "source": [
    "import pandas as pd\n",
    "import os"
   ]
  },
  {
   "cell_type": "code",
   "execution_count": 4,
   "id": "78f29811",
   "metadata": {},
   "outputs": [
    {
     "name": "stdout",
     "output_type": "stream",
     "text": [
      "/Capstone/Data\\EN-NL\\EN -NL.txt\n",
      "/Capstone/Data\\EN-BG\\EN-BG.txt\n",
      "/Capstone/Data\\EN-CS\\EN-CS.txt\n",
      "/Capstone/Data\\EN-DA\\EN-DA.txt\n",
      "/Capstone/Data\\EN-DE\\EN-DE.txt\n",
      "/Capstone/Data\\EN-EL\\EN-EL.txt\n",
      "/Capstone/Data\\EN-ES\\EN-ES.txt\n",
      "/Capstone/Data\\EN-ET\\EN-ET.txt\n",
      "/Capstone/Data\\EN-FI\\EN-FI.txt\n",
      "/Capstone/Data\\EN-FR\\EN-FR.txt\n",
      "/Capstone/Data\\EN-GA\\EN-GA.txt\n",
      "/Capstone/Data\\EN-HR\\EN-HR.txt\n",
      "/Capstone/Data\\EN-HU\\EN-HU.txt\n",
      "/Capstone/Data\\EN-IT\\EN-IT.txt\n",
      "/Capstone/Data\\EN-LT\\EN-LT.txt\n",
      "/Capstone/Data\\EN-LV\\EN-LV.txt\n",
      "/Capstone/Data\\EN-MT\\EN-MT.txt\n",
      "/Capstone/Data\\EN-PL\\EN-PL.txt\n",
      "/Capstone/Data\\EN-PT\\EN-PT.txt\n",
      "/Capstone/Data\\EN-RO\\EN-RO.txt\n",
      "/Capstone/Data\\EN-SK\\EN-SK.txt\n",
      "/Capstone/Data\\EN-SL\\EN-SL.txt\n",
      "/Capstone/Data\\EN-SV\\EN-SV.txt\n",
      "/Capstone/Data\\Sample TMX file (EN-GA)\\EN-GA.tmx\n"
     ]
    }
   ],
   "source": [
    "for dirname, _, filenames in os.walk('/Capstone/Data'):\n",
    "    for filename in filenames:\n",
    "        print(os.path.join(dirname, filename))"
   ]
  },
  {
   "cell_type": "code",
   "execution_count": 5,
   "id": "9b160ef3",
   "metadata": {},
   "outputs": [],
   "source": [
    "CD = \"/Capstone/Data/\""
   ]
  },
  {
   "cell_type": "code",
   "execution_count": 6,
   "id": "7dea8360",
   "metadata": {},
   "outputs": [],
   "source": [
    "SL = 'EN'"
   ]
  },
  {
   "cell_type": "code",
   "execution_count": 7,
   "id": "50ba1704",
   "metadata": {},
   "outputs": [],
   "source": [
    "TL_DE = 'DE'"
   ]
  },
  {
   "cell_type": "code",
   "execution_count": 8,
   "id": "57f9902f",
   "metadata": {},
   "outputs": [],
   "source": [
    "TL_ES = 'ES'"
   ]
  },
  {
   "cell_type": "code",
   "execution_count": 9,
   "id": "0c3f9695",
   "metadata": {},
   "outputs": [],
   "source": [
    "EN_DE = pd.read_csv(CD+SL+'-'+TL_DE+'/'+SL+'-'+TL_DE+'.txt', sep='\\t', header = None)[[0,1]].rename(columns = {0:SL, 1:TL_DE})"
   ]
  },
  {
   "cell_type": "code",
   "execution_count": 10,
   "id": "9b2aa450",
   "metadata": {},
   "outputs": [],
   "source": [
    "EN_ES = pd.read_csv(CD+SL+'-'+TL_ES+'/'+SL+'-'+TL_ES+'.txt', sep='\\t', header = None)[[0,1]].rename(columns = {0:SL, 1:TL_ES})"
   ]
  },
  {
   "cell_type": "code",
   "execution_count": 11,
   "id": "0dfd029e",
   "metadata": {},
   "outputs": [
    {
     "data": {
      "text/html": [
       "<div>\n",
       "<style scoped>\n",
       "    .dataframe tbody tr th:only-of-type {\n",
       "        vertical-align: middle;\n",
       "    }\n",
       "\n",
       "    .dataframe tbody tr th {\n",
       "        vertical-align: top;\n",
       "    }\n",
       "\n",
       "    .dataframe thead th {\n",
       "        text-align: right;\n",
       "    }\n",
       "</style>\n",
       "<table border=\"1\" class=\"dataframe\">\n",
       "  <thead>\n",
       "    <tr style=\"text-align: right;\">\n",
       "      <th></th>\n",
       "      <th>EN</th>\n",
       "      <th>DE</th>\n",
       "    </tr>\n",
       "  </thead>\n",
       "  <tbody>\n",
       "    <tr>\n",
       "      <th>0</th>\n",
       "      <td>Commission Regulation (EC) No 1788/2004</td>\n",
       "      <td>Verordnung (EG) Nr. 1788/2004 der Kommission</td>\n",
       "    </tr>\n",
       "    <tr>\n",
       "      <th>1</th>\n",
       "      <td>of 15 October 2004</td>\n",
       "      <td>vom 15. Oktober 2004</td>\n",
       "    </tr>\n",
       "    <tr>\n",
       "      <th>2</th>\n",
       "      <td>fixing the minimum selling prices for butter f...</td>\n",
       "      <td>zur Festsetzung der Mindestverkaufspreise für ...</td>\n",
       "    </tr>\n",
       "    <tr>\n",
       "      <th>3</th>\n",
       "      <td>THE COMMISSION OF THE EUROPEAN COMMUNITIES,</td>\n",
       "      <td>DIE KOMMISSION DER EUROPÄISCHEN GEMEINSCHAFTEN —</td>\n",
       "    </tr>\n",
       "    <tr>\n",
       "      <th>4</th>\n",
       "      <td>Having regard to the Treaty establishing the E...</td>\n",
       "      <td>gestützt auf den Vertrag zur Gründung der Euro...</td>\n",
       "    </tr>\n",
       "  </tbody>\n",
       "</table>\n",
       "</div>"
      ],
      "text/plain": [
       "                                                  EN  \\\n",
       "0            Commission Regulation (EC) No 1788/2004   \n",
       "1                                 of 15 October 2004   \n",
       "2  fixing the minimum selling prices for butter f...   \n",
       "3        THE COMMISSION OF THE EUROPEAN COMMUNITIES,   \n",
       "4  Having regard to the Treaty establishing the E...   \n",
       "\n",
       "                                                  DE  \n",
       "0       Verordnung (EG) Nr. 1788/2004 der Kommission  \n",
       "1                               vom 15. Oktober 2004  \n",
       "2  zur Festsetzung der Mindestverkaufspreise für ...  \n",
       "3   DIE KOMMISSION DER EUROPÄISCHEN GEMEINSCHAFTEN —  \n",
       "4  gestützt auf den Vertrag zur Gründung der Euro...  "
      ]
     },
     "execution_count": 11,
     "metadata": {},
     "output_type": "execute_result"
    }
   ],
   "source": [
    "EN_DE.head()"
   ]
  },
  {
   "cell_type": "code",
   "execution_count": 12,
   "id": "fad53a22",
   "metadata": {},
   "outputs": [
    {
     "data": {
      "text/html": [
       "<div>\n",
       "<style scoped>\n",
       "    .dataframe tbody tr th:only-of-type {\n",
       "        vertical-align: middle;\n",
       "    }\n",
       "\n",
       "    .dataframe tbody tr th {\n",
       "        vertical-align: top;\n",
       "    }\n",
       "\n",
       "    .dataframe thead th {\n",
       "        text-align: right;\n",
       "    }\n",
       "</style>\n",
       "<table border=\"1\" class=\"dataframe\">\n",
       "  <thead>\n",
       "    <tr style=\"text-align: right;\">\n",
       "      <th></th>\n",
       "      <th>EN</th>\n",
       "      <th>ES</th>\n",
       "    </tr>\n",
       "  </thead>\n",
       "  <tbody>\n",
       "    <tr>\n",
       "      <th>0</th>\n",
       "      <td>Commission Regulation (EC) No 1788/2004</td>\n",
       "      <td>Reglamento (CE) no 1788/2004 de la Comisión</td>\n",
       "    </tr>\n",
       "    <tr>\n",
       "      <th>1</th>\n",
       "      <td>of 15 October 2004</td>\n",
       "      <td>de 15 de octubre de 2004</td>\n",
       "    </tr>\n",
       "    <tr>\n",
       "      <th>2</th>\n",
       "      <td>fixing the minimum selling prices for butter f...</td>\n",
       "      <td>por el que se fijan los precios mínimos de ven...</td>\n",
       "    </tr>\n",
       "    <tr>\n",
       "      <th>3</th>\n",
       "      <td>THE COMMISSION OF THE EUROPEAN COMMUNITIES,</td>\n",
       "      <td>LA COMISIÓN DE LAS COMUNIDADES EUROPEAS,</td>\n",
       "    </tr>\n",
       "    <tr>\n",
       "      <th>4</th>\n",
       "      <td>Having regard to the Treaty establishing the E...</td>\n",
       "      <td>Visto el Tratado constitutivo de la Comunidad ...</td>\n",
       "    </tr>\n",
       "  </tbody>\n",
       "</table>\n",
       "</div>"
      ],
      "text/plain": [
       "                                                  EN  \\\n",
       "0            Commission Regulation (EC) No 1788/2004   \n",
       "1                                 of 15 October 2004   \n",
       "2  fixing the minimum selling prices for butter f...   \n",
       "3        THE COMMISSION OF THE EUROPEAN COMMUNITIES,   \n",
       "4  Having regard to the Treaty establishing the E...   \n",
       "\n",
       "                                                  ES  \n",
       "0        Reglamento (CE) no 1788/2004 de la Comisión  \n",
       "1                           de 15 de octubre de 2004  \n",
       "2  por el que se fijan los precios mínimos de ven...  \n",
       "3           LA COMISIÓN DE LAS COMUNIDADES EUROPEAS,  \n",
       "4  Visto el Tratado constitutivo de la Comunidad ...  "
      ]
     },
     "execution_count": 12,
     "metadata": {},
     "output_type": "execute_result"
    }
   ],
   "source": [
    "EN_ES.head()"
   ]
  },
  {
   "cell_type": "code",
   "execution_count": 13,
   "id": "e67a45ed",
   "metadata": {},
   "outputs": [
    {
     "data": {
      "text/plain": [
       "(5693624, 2)"
      ]
     },
     "execution_count": 13,
     "metadata": {},
     "output_type": "execute_result"
    }
   ],
   "source": [
    "EN_DE.shape"
   ]
  },
  {
   "cell_type": "code",
   "execution_count": 14,
   "id": "b5161039",
   "metadata": {},
   "outputs": [
    {
     "data": {
      "text/plain": [
       "(5696850, 2)"
      ]
     },
     "execution_count": 14,
     "metadata": {},
     "output_type": "execute_result"
    }
   ],
   "source": [
    "EN_ES.shape"
   ]
  },
  {
   "cell_type": "code",
   "execution_count": 15,
   "id": "8349cd27",
   "metadata": {},
   "outputs": [
    {
     "name": "stdout",
     "output_type": "stream",
     "text": [
      "<class 'pandas.core.frame.DataFrame'>\n",
      "RangeIndex: 5693624 entries, 0 to 5693623\n",
      "Data columns (total 2 columns):\n",
      " #   Column  Dtype \n",
      "---  ------  ----- \n",
      " 0   EN      object\n",
      " 1   DE      object\n",
      "dtypes: object(2)\n",
      "memory usage: 86.9+ MB\n"
     ]
    }
   ],
   "source": [
    "EN_DE.info()"
   ]
  },
  {
   "cell_type": "code",
   "execution_count": 16,
   "id": "8e57ab24",
   "metadata": {},
   "outputs": [
    {
     "name": "stdout",
     "output_type": "stream",
     "text": [
      "<class 'pandas.core.frame.DataFrame'>\n",
      "RangeIndex: 5696850 entries, 0 to 5696849\n",
      "Data columns (total 2 columns):\n",
      " #   Column  Dtype \n",
      "---  ------  ----- \n",
      " 0   EN      object\n",
      " 1   ES      object\n",
      "dtypes: object(2)\n",
      "memory usage: 86.9+ MB\n"
     ]
    }
   ],
   "source": [
    "EN_ES.info()"
   ]
  },
  {
   "cell_type": "markdown",
   "id": "31ff8901",
   "metadata": {},
   "source": [
    "### Data Cleaning"
   ]
  },
  {
   "cell_type": "code",
   "execution_count": 18,
   "id": "9c540a64",
   "metadata": {},
   "outputs": [
    {
     "data": {
      "text/html": [
       "<div>\n",
       "<style scoped>\n",
       "    .dataframe tbody tr th:only-of-type {\n",
       "        vertical-align: middle;\n",
       "    }\n",
       "\n",
       "    .dataframe tbody tr th {\n",
       "        vertical-align: top;\n",
       "    }\n",
       "\n",
       "    .dataframe thead th {\n",
       "        text-align: right;\n",
       "    }\n",
       "</style>\n",
       "<table border=\"1\" class=\"dataframe\">\n",
       "  <thead>\n",
       "    <tr style=\"text-align: right;\">\n",
       "      <th></th>\n",
       "      <th>count</th>\n",
       "      <th>%</th>\n",
       "    </tr>\n",
       "  </thead>\n",
       "  <tbody>\n",
       "    <tr>\n",
       "      <th>EN</th>\n",
       "      <td>134</td>\n",
       "      <td>0.002354</td>\n",
       "    </tr>\n",
       "    <tr>\n",
       "      <th>DE</th>\n",
       "      <td>4</td>\n",
       "      <td>0.000070</td>\n",
       "    </tr>\n",
       "  </tbody>\n",
       "</table>\n",
       "</div>"
      ],
      "text/plain": [
       "    count         %\n",
       "EN    134  0.002354\n",
       "DE      4  0.000070"
      ]
     },
     "execution_count": 18,
     "metadata": {},
     "output_type": "execute_result"
    }
   ],
   "source": [
    "missing_DE = pd.concat([EN_DE.isnull().sum(), 100 * EN_DE.isnull().mean()], axis=1)\n",
    "missing_DE.columns=['count', '%']\n",
    "missing_DE.sort_values(by= ['count','%'], ascending=False)"
   ]
  },
  {
   "cell_type": "code",
   "execution_count": 19,
   "id": "09a7658a",
   "metadata": {},
   "outputs": [
    {
     "data": {
      "text/html": [
       "<div>\n",
       "<style scoped>\n",
       "    .dataframe tbody tr th:only-of-type {\n",
       "        vertical-align: middle;\n",
       "    }\n",
       "\n",
       "    .dataframe tbody tr th {\n",
       "        vertical-align: top;\n",
       "    }\n",
       "\n",
       "    .dataframe thead th {\n",
       "        text-align: right;\n",
       "    }\n",
       "</style>\n",
       "<table border=\"1\" class=\"dataframe\">\n",
       "  <thead>\n",
       "    <tr style=\"text-align: right;\">\n",
       "      <th></th>\n",
       "      <th>count</th>\n",
       "      <th>%</th>\n",
       "    </tr>\n",
       "  </thead>\n",
       "  <tbody>\n",
       "    <tr>\n",
       "      <th>EN</th>\n",
       "      <td>130</td>\n",
       "      <td>0.002282</td>\n",
       "    </tr>\n",
       "    <tr>\n",
       "      <th>ES</th>\n",
       "      <td>2</td>\n",
       "      <td>0.000035</td>\n",
       "    </tr>\n",
       "  </tbody>\n",
       "</table>\n",
       "</div>"
      ],
      "text/plain": [
       "    count         %\n",
       "EN    130  0.002282\n",
       "ES      2  0.000035"
      ]
     },
     "execution_count": 19,
     "metadata": {},
     "output_type": "execute_result"
    }
   ],
   "source": [
    "missing_ES = pd.concat([EN_ES.isnull().sum(), 100 * EN_ES.isnull().mean()], axis=1)\n",
    "missing_ES.columns=['count', '%']\n",
    "missing_ES.sort_values(by= ['count','%'], ascending=False)"
   ]
  },
  {
   "cell_type": "code",
   "execution_count": 20,
   "id": "dba9d2e1",
   "metadata": {},
   "outputs": [],
   "source": [
    "EN_DE.dropna(inplace = True)"
   ]
  },
  {
   "cell_type": "code",
   "execution_count": 21,
   "id": "7f59bcb3",
   "metadata": {},
   "outputs": [
    {
     "data": {
      "text/plain": [
       "EN    0\n",
       "DE    0\n",
       "dtype: int64"
      ]
     },
     "execution_count": 21,
     "metadata": {},
     "output_type": "execute_result"
    }
   ],
   "source": [
    "EN_DE.isna().sum()"
   ]
  },
  {
   "cell_type": "code",
   "execution_count": 22,
   "id": "9f27e10d",
   "metadata": {},
   "outputs": [
    {
     "data": {
      "text/plain": [
       "(5693487, 2)"
      ]
     },
     "execution_count": 22,
     "metadata": {},
     "output_type": "execute_result"
    }
   ],
   "source": [
    "EN_DE.shape"
   ]
  },
  {
   "cell_type": "code",
   "execution_count": 23,
   "id": "958518b0",
   "metadata": {},
   "outputs": [],
   "source": [
    "EN_ES.dropna(inplace = True)"
   ]
  },
  {
   "cell_type": "code",
   "execution_count": 24,
   "id": "b0d18240",
   "metadata": {},
   "outputs": [
    {
     "data": {
      "text/plain": [
       "EN    0\n",
       "ES    0\n",
       "dtype: int64"
      ]
     },
     "execution_count": 24,
     "metadata": {},
     "output_type": "execute_result"
    }
   ],
   "source": [
    "EN_ES.isna().sum()"
   ]
  },
  {
   "cell_type": "code",
   "execution_count": null,
   "id": "5dcfcdc8",
   "metadata": {},
   "outputs": [],
   "source": [
    "EN_DE['EN'] = EN_DE['EN'].str.lower().str.split()\n",
    "EN_DE['DE'] = EN_DE['DE'].str.lower().str.split()"
   ]
  },
  {
   "cell_type": "code",
   "execution_count": null,
   "id": "488fae60",
   "metadata": {},
   "outputs": [],
   "source": [
    "EN_ES['EN'] = EN_DE['EN'].str.lower().str.split()\n",
    "EN_ES['ES'] = EN_ES['ES'].str.lower().str.split()"
   ]
  },
  {
   "cell_type": "code",
   "execution_count": null,
   "id": "56fa539e",
   "metadata": {},
   "outputs": [],
   "source": [
    "#EN_complete = pd.merge(EN_DE, EN_ES, on = 'EN')"
   ]
  },
  {
   "cell_type": "markdown",
   "id": "335654c7",
   "metadata": {},
   "source": [
    "### Data Visualization "
   ]
  },
  {
   "cell_type": "code",
   "execution_count": 17,
   "id": "2427ebfe",
   "metadata": {},
   "outputs": [],
   "source": [
    "from collections import Counter"
   ]
  },
  {
   "cell_type": "code",
   "execution_count": 2,
   "id": "5a2358c7",
   "metadata": {},
   "outputs": [
    {
     "ename": "NameError",
     "evalue": "name 'EN_DE' is not defined",
     "output_type": "error",
     "traceback": [
      "\u001b[1;31m---------------------------------------------------------------------------\u001b[0m",
      "\u001b[1;31mNameError\u001b[0m                                 Traceback (most recent call last)",
      "\u001b[1;32m<ipython-input-2-6c8b754440f4>\u001b[0m in \u001b[0;36m<module>\u001b[1;34m\u001b[0m\n\u001b[1;32m----> 1\u001b[1;33m \u001b[0mEN_DE\u001b[0m\u001b[1;33m[\u001b[0m\u001b[1;34m'DE'\u001b[0m\u001b[1;33m]\u001b[0m\u001b[1;33m.\u001b[0m\u001b[0mstr\u001b[0m\u001b[1;33m.\u001b[0m\u001b[0msplit\u001b[0m\u001b[1;33m(\u001b[0m\u001b[1;33m)\u001b[0m\u001b[1;33m.\u001b[0m\u001b[0mapply\u001b[0m\u001b[1;33m(\u001b[0m\u001b[0mresults_DE\u001b[0m\u001b[1;33m.\u001b[0m\u001b[0mupdate\u001b[0m\u001b[1;33m)\u001b[0m\u001b[1;33m\u001b[0m\u001b[1;33m\u001b[0m\u001b[0m\n\u001b[0m\u001b[0;32m      2\u001b[0m \u001b[1;31m#EN_ES['ES'].str.lower.str.split.apply(results_ES.update)\u001b[0m\u001b[1;33m\u001b[0m\u001b[1;33m\u001b[0m\u001b[1;33m\u001b[0m\u001b[0m\n\u001b[0;32m      3\u001b[0m \u001b[1;33m\u001b[0m\u001b[0m\n\u001b[0;32m      4\u001b[0m \u001b[0mprint\u001b[0m\u001b[1;33m(\u001b[0m\u001b[1;34m'English to German word count: '\u001b[0m\u001b[1;33m+\u001b[0m \u001b[0mresults_DE\u001b[0m\u001b[1;33m)\u001b[0m\u001b[1;33m\u001b[0m\u001b[1;33m\u001b[0m\u001b[0m\n\u001b[0;32m      5\u001b[0m \u001b[1;31m#print(' ')\u001b[0m\u001b[1;33m\u001b[0m\u001b[1;33m\u001b[0m\u001b[1;33m\u001b[0m\u001b[0m\n",
      "\u001b[1;31mNameError\u001b[0m: name 'EN_DE' is not defined"
     ]
    }
   ],
   "source": [
    "\n",
    "EN_DE['ENCounter'] = EN_DE['DE'].apply(set).apply(len)\n",
    "#EN_ES['ES'].str.lower.str.split.apply(results_ES.update)\n",
    "\n",
    "#print('English to German word count: '+ results_DE)\n",
    "#print(' ')\n",
    "#print('English to Spanish word count: '+ results_ES)"
   ]
  }
 ],
 "metadata": {
  "kernelspec": {
   "display_name": "Python 3",
   "language": "python",
   "name": "python3"
  },
  "language_info": {
   "codemirror_mode": {
    "name": "ipython",
    "version": 3
   },
   "file_extension": ".py",
   "mimetype": "text/x-python",
   "name": "python",
   "nbconvert_exporter": "python",
   "pygments_lexer": "ipython3",
   "version": "3.8.8"
  }
 },
 "nbformat": 4,
 "nbformat_minor": 5
}
