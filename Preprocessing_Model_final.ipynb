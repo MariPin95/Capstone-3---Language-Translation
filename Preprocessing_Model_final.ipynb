{
  "cells": [
    {
      "cell_type": "markdown",
      "id": "730e4267",
      "metadata": {
        "id": "730e4267"
      },
      "source": [
        "# Language Translation Using Recurring Neural Networks"
      ]
    },
    {
      "cell_type": "markdown",
      "id": "b3e6b80d",
      "metadata": {
        "id": "b3e6b80d"
      },
      "source": [
        "## Preprocessing and Model"
      ]
    },
    {
      "cell_type": "code",
      "execution_count": null,
      "id": "c351412e",
      "metadata": {
        "id": "c351412e"
      },
      "outputs": [],
      "source": [
        "import pandas as pd\n",
        "import numpy as np\n",
        "import os\n",
        "from pathlib import Path\n",
        "import warnings\n",
        "warnings.filterwarnings(\"ignore\")"
      ]
    },
    {
      "cell_type": "markdown",
      "id": "70e07e3c",
      "metadata": {
        "id": "70e07e3c"
      },
      "source": [
        "### Data Loading and Preprocessing"
      ]
    },
    {
      "cell_type": "code",
      "source": [
        "from google.colab import files\n",
        "\n",
        "uploads = files.upload()"
      ],
      "metadata": {
        "colab": {
          "base_uri": "https://localhost:8080/",
          "height": 74
        },
        "id": "QWZozYmstKyd",
        "outputId": "d65044dd-a4be-431f-a10a-9b8106583244"
      },
      "id": "QWZozYmstKyd",
      "execution_count": null,
      "outputs": [
        {
          "output_type": "display_data",
          "data": {
            "text/plain": [
              "<IPython.core.display.HTML object>"
            ],
            "text/html": [
              "\n",
              "     <input type=\"file\" id=\"files-eae5d789-a04c-40e6-ad1a-0a29378ff246\" name=\"files[]\" multiple disabled\n",
              "        style=\"border:none\" />\n",
              "     <output id=\"result-eae5d789-a04c-40e6-ad1a-0a29378ff246\">\n",
              "      Upload widget is only available when the cell has been executed in the\n",
              "      current browser session. Please rerun this cell to enable.\n",
              "      </output>\n",
              "      <script>// Copyright 2017 Google LLC\n",
              "//\n",
              "// Licensed under the Apache License, Version 2.0 (the \"License\");\n",
              "// you may not use this file except in compliance with the License.\n",
              "// You may obtain a copy of the License at\n",
              "//\n",
              "//      http://www.apache.org/licenses/LICENSE-2.0\n",
              "//\n",
              "// Unless required by applicable law or agreed to in writing, software\n",
              "// distributed under the License is distributed on an \"AS IS\" BASIS,\n",
              "// WITHOUT WARRANTIES OR CONDITIONS OF ANY KIND, either express or implied.\n",
              "// See the License for the specific language governing permissions and\n",
              "// limitations under the License.\n",
              "\n",
              "/**\n",
              " * @fileoverview Helpers for google.colab Python module.\n",
              " */\n",
              "(function(scope) {\n",
              "function span(text, styleAttributes = {}) {\n",
              "  const element = document.createElement('span');\n",
              "  element.textContent = text;\n",
              "  for (const key of Object.keys(styleAttributes)) {\n",
              "    element.style[key] = styleAttributes[key];\n",
              "  }\n",
              "  return element;\n",
              "}\n",
              "\n",
              "// Max number of bytes which will be uploaded at a time.\n",
              "const MAX_PAYLOAD_SIZE = 100 * 1024;\n",
              "\n",
              "function _uploadFiles(inputId, outputId) {\n",
              "  const steps = uploadFilesStep(inputId, outputId);\n",
              "  const outputElement = document.getElementById(outputId);\n",
              "  // Cache steps on the outputElement to make it available for the next call\n",
              "  // to uploadFilesContinue from Python.\n",
              "  outputElement.steps = steps;\n",
              "\n",
              "  return _uploadFilesContinue(outputId);\n",
              "}\n",
              "\n",
              "// This is roughly an async generator (not supported in the browser yet),\n",
              "// where there are multiple asynchronous steps and the Python side is going\n",
              "// to poll for completion of each step.\n",
              "// This uses a Promise to block the python side on completion of each step,\n",
              "// then passes the result of the previous step as the input to the next step.\n",
              "function _uploadFilesContinue(outputId) {\n",
              "  const outputElement = document.getElementById(outputId);\n",
              "  const steps = outputElement.steps;\n",
              "\n",
              "  const next = steps.next(outputElement.lastPromiseValue);\n",
              "  return Promise.resolve(next.value.promise).then((value) => {\n",
              "    // Cache the last promise value to make it available to the next\n",
              "    // step of the generator.\n",
              "    outputElement.lastPromiseValue = value;\n",
              "    return next.value.response;\n",
              "  });\n",
              "}\n",
              "\n",
              "/**\n",
              " * Generator function which is called between each async step of the upload\n",
              " * process.\n",
              " * @param {string} inputId Element ID of the input file picker element.\n",
              " * @param {string} outputId Element ID of the output display.\n",
              " * @return {!Iterable<!Object>} Iterable of next steps.\n",
              " */\n",
              "function* uploadFilesStep(inputId, outputId) {\n",
              "  const inputElement = document.getElementById(inputId);\n",
              "  inputElement.disabled = false;\n",
              "\n",
              "  const outputElement = document.getElementById(outputId);\n",
              "  outputElement.innerHTML = '';\n",
              "\n",
              "  const pickedPromise = new Promise((resolve) => {\n",
              "    inputElement.addEventListener('change', (e) => {\n",
              "      resolve(e.target.files);\n",
              "    });\n",
              "  });\n",
              "\n",
              "  const cancel = document.createElement('button');\n",
              "  inputElement.parentElement.appendChild(cancel);\n",
              "  cancel.textContent = 'Cancel upload';\n",
              "  const cancelPromise = new Promise((resolve) => {\n",
              "    cancel.onclick = () => {\n",
              "      resolve(null);\n",
              "    };\n",
              "  });\n",
              "\n",
              "  // Wait for the user to pick the files.\n",
              "  const files = yield {\n",
              "    promise: Promise.race([pickedPromise, cancelPromise]),\n",
              "    response: {\n",
              "      action: 'starting',\n",
              "    }\n",
              "  };\n",
              "\n",
              "  cancel.remove();\n",
              "\n",
              "  // Disable the input element since further picks are not allowed.\n",
              "  inputElement.disabled = true;\n",
              "\n",
              "  if (!files) {\n",
              "    return {\n",
              "      response: {\n",
              "        action: 'complete',\n",
              "      }\n",
              "    };\n",
              "  }\n",
              "\n",
              "  for (const file of files) {\n",
              "    const li = document.createElement('li');\n",
              "    li.append(span(file.name, {fontWeight: 'bold'}));\n",
              "    li.append(span(\n",
              "        `(${file.type || 'n/a'}) - ${file.size} bytes, ` +\n",
              "        `last modified: ${\n",
              "            file.lastModifiedDate ? file.lastModifiedDate.toLocaleDateString() :\n",
              "                                    'n/a'} - `));\n",
              "    const percent = span('0% done');\n",
              "    li.appendChild(percent);\n",
              "\n",
              "    outputElement.appendChild(li);\n",
              "\n",
              "    const fileDataPromise = new Promise((resolve) => {\n",
              "      const reader = new FileReader();\n",
              "      reader.onload = (e) => {\n",
              "        resolve(e.target.result);\n",
              "      };\n",
              "      reader.readAsArrayBuffer(file);\n",
              "    });\n",
              "    // Wait for the data to be ready.\n",
              "    let fileData = yield {\n",
              "      promise: fileDataPromise,\n",
              "      response: {\n",
              "        action: 'continue',\n",
              "      }\n",
              "    };\n",
              "\n",
              "    // Use a chunked sending to avoid message size limits. See b/62115660.\n",
              "    let position = 0;\n",
              "    do {\n",
              "      const length = Math.min(fileData.byteLength - position, MAX_PAYLOAD_SIZE);\n",
              "      const chunk = new Uint8Array(fileData, position, length);\n",
              "      position += length;\n",
              "\n",
              "      const base64 = btoa(String.fromCharCode.apply(null, chunk));\n",
              "      yield {\n",
              "        response: {\n",
              "          action: 'append',\n",
              "          file: file.name,\n",
              "          data: base64,\n",
              "        },\n",
              "      };\n",
              "\n",
              "      let percentDone = fileData.byteLength === 0 ?\n",
              "          100 :\n",
              "          Math.round((position / fileData.byteLength) * 100);\n",
              "      percent.textContent = `${percentDone}% done`;\n",
              "\n",
              "    } while (position < fileData.byteLength);\n",
              "  }\n",
              "\n",
              "  // All done.\n",
              "  yield {\n",
              "    response: {\n",
              "      action: 'complete',\n",
              "    }\n",
              "  };\n",
              "}\n",
              "\n",
              "scope.google = scope.google || {};\n",
              "scope.google.colab = scope.google.colab || {};\n",
              "scope.google.colab._files = {\n",
              "  _uploadFiles,\n",
              "  _uploadFilesContinue,\n",
              "};\n",
              "})(self);\n",
              "</script> "
            ]
          },
          "metadata": {}
        },
        {
          "output_type": "stream",
          "name": "stdout",
          "text": [
            "Saving EN_DE.csv to EN_DE (1).csv\n"
          ]
        }
      ]
    },
    {
      "cell_type": "code",
      "execution_count": null,
      "id": "9ed6efc8",
      "metadata": {
        "id": "9ed6efc8"
      },
      "outputs": [],
      "source": [
        "# Load language datasets\n",
        "file = \"EN_DE.csv\"\n",
        "df = pd.read_csv(file)"
      ]
    },
    {
      "cell_type": "code",
      "execution_count": null,
      "id": "2ecdefdb",
      "metadata": {
        "colab": {
          "base_uri": "https://localhost:8080/",
          "height": 206
        },
        "id": "2ecdefdb",
        "outputId": "bf06684c-3bd0-404b-b05e-d599eaa8d8a7"
      },
      "outputs": [
        {
          "output_type": "execute_result",
          "data": {
            "text/plain": [
              "                                                  EN  \\\n",
              "0  ['commission', 'regulation', '(ec)', 'no', '17...   \n",
              "1                    ['of', '15', 'october', '2004']   \n",
              "2  ['fixing', 'the', 'minimum', 'selling', 'price...   \n",
              "3  ['the', 'commission', 'of', 'the', 'european',...   \n",
              "4  ['having', 'regard', 'to', 'the', 'treaty', 'e...   \n",
              "\n",
              "                                                  DE  ENCounter  DECounter  \\\n",
              "0  ['verordnung', '(eg)', 'nr.', '1788/2004', 'de...          5          6   \n",
              "1                  ['vom', '15.', 'oktober', '2004']          4          4   \n",
              "2  ['zur', 'festsetzung', 'der', 'mindestverkaufs...         20         17   \n",
              "3  ['die', 'kommission', 'der', 'europäischen', '...          5          6   \n",
              "4  ['gestützt', 'auf', 'den', 'vertrag', 'zur', '...          8          9   \n",
              "\n",
              "   CountDiff  \n",
              "0          1  \n",
              "1          0  \n",
              "2          3  \n",
              "3          1  \n",
              "4          1  "
            ],
            "text/html": [
              "\n",
              "  <div id=\"df-2d011892-3f77-4bf0-b61c-fcd9814c9632\">\n",
              "    <div class=\"colab-df-container\">\n",
              "      <div>\n",
              "<style scoped>\n",
              "    .dataframe tbody tr th:only-of-type {\n",
              "        vertical-align: middle;\n",
              "    }\n",
              "\n",
              "    .dataframe tbody tr th {\n",
              "        vertical-align: top;\n",
              "    }\n",
              "\n",
              "    .dataframe thead th {\n",
              "        text-align: right;\n",
              "    }\n",
              "</style>\n",
              "<table border=\"1\" class=\"dataframe\">\n",
              "  <thead>\n",
              "    <tr style=\"text-align: right;\">\n",
              "      <th></th>\n",
              "      <th>EN</th>\n",
              "      <th>DE</th>\n",
              "      <th>ENCounter</th>\n",
              "      <th>DECounter</th>\n",
              "      <th>CountDiff</th>\n",
              "    </tr>\n",
              "  </thead>\n",
              "  <tbody>\n",
              "    <tr>\n",
              "      <th>0</th>\n",
              "      <td>['commission', 'regulation', '(ec)', 'no', '17...</td>\n",
              "      <td>['verordnung', '(eg)', 'nr.', '1788/2004', 'de...</td>\n",
              "      <td>5</td>\n",
              "      <td>6</td>\n",
              "      <td>1</td>\n",
              "    </tr>\n",
              "    <tr>\n",
              "      <th>1</th>\n",
              "      <td>['of', '15', 'october', '2004']</td>\n",
              "      <td>['vom', '15.', 'oktober', '2004']</td>\n",
              "      <td>4</td>\n",
              "      <td>4</td>\n",
              "      <td>0</td>\n",
              "    </tr>\n",
              "    <tr>\n",
              "      <th>2</th>\n",
              "      <td>['fixing', 'the', 'minimum', 'selling', 'price...</td>\n",
              "      <td>['zur', 'festsetzung', 'der', 'mindestverkaufs...</td>\n",
              "      <td>20</td>\n",
              "      <td>17</td>\n",
              "      <td>3</td>\n",
              "    </tr>\n",
              "    <tr>\n",
              "      <th>3</th>\n",
              "      <td>['the', 'commission', 'of', 'the', 'european',...</td>\n",
              "      <td>['die', 'kommission', 'der', 'europäischen', '...</td>\n",
              "      <td>5</td>\n",
              "      <td>6</td>\n",
              "      <td>1</td>\n",
              "    </tr>\n",
              "    <tr>\n",
              "      <th>4</th>\n",
              "      <td>['having', 'regard', 'to', 'the', 'treaty', 'e...</td>\n",
              "      <td>['gestützt', 'auf', 'den', 'vertrag', 'zur', '...</td>\n",
              "      <td>8</td>\n",
              "      <td>9</td>\n",
              "      <td>1</td>\n",
              "    </tr>\n",
              "  </tbody>\n",
              "</table>\n",
              "</div>\n",
              "      <button class=\"colab-df-convert\" onclick=\"convertToInteractive('df-2d011892-3f77-4bf0-b61c-fcd9814c9632')\"\n",
              "              title=\"Convert this dataframe to an interactive table.\"\n",
              "              style=\"display:none;\">\n",
              "        \n",
              "  <svg xmlns=\"http://www.w3.org/2000/svg\" height=\"24px\"viewBox=\"0 0 24 24\"\n",
              "       width=\"24px\">\n",
              "    <path d=\"M0 0h24v24H0V0z\" fill=\"none\"/>\n",
              "    <path d=\"M18.56 5.44l.94 2.06.94-2.06 2.06-.94-2.06-.94-.94-2.06-.94 2.06-2.06.94zm-11 1L8.5 8.5l.94-2.06 2.06-.94-2.06-.94L8.5 2.5l-.94 2.06-2.06.94zm10 10l.94 2.06.94-2.06 2.06-.94-2.06-.94-.94-2.06-.94 2.06-2.06.94z\"/><path d=\"M17.41 7.96l-1.37-1.37c-.4-.4-.92-.59-1.43-.59-.52 0-1.04.2-1.43.59L10.3 9.45l-7.72 7.72c-.78.78-.78 2.05 0 2.83L4 21.41c.39.39.9.59 1.41.59.51 0 1.02-.2 1.41-.59l7.78-7.78 2.81-2.81c.8-.78.8-2.07 0-2.86zM5.41 20L4 18.59l7.72-7.72 1.47 1.35L5.41 20z\"/>\n",
              "  </svg>\n",
              "      </button>\n",
              "      \n",
              "  <style>\n",
              "    .colab-df-container {\n",
              "      display:flex;\n",
              "      flex-wrap:wrap;\n",
              "      gap: 12px;\n",
              "    }\n",
              "\n",
              "    .colab-df-convert {\n",
              "      background-color: #E8F0FE;\n",
              "      border: none;\n",
              "      border-radius: 50%;\n",
              "      cursor: pointer;\n",
              "      display: none;\n",
              "      fill: #1967D2;\n",
              "      height: 32px;\n",
              "      padding: 0 0 0 0;\n",
              "      width: 32px;\n",
              "    }\n",
              "\n",
              "    .colab-df-convert:hover {\n",
              "      background-color: #E2EBFA;\n",
              "      box-shadow: 0px 1px 2px rgba(60, 64, 67, 0.3), 0px 1px 3px 1px rgba(60, 64, 67, 0.15);\n",
              "      fill: #174EA6;\n",
              "    }\n",
              "\n",
              "    [theme=dark] .colab-df-convert {\n",
              "      background-color: #3B4455;\n",
              "      fill: #D2E3FC;\n",
              "    }\n",
              "\n",
              "    [theme=dark] .colab-df-convert:hover {\n",
              "      background-color: #434B5C;\n",
              "      box-shadow: 0px 1px 3px 1px rgba(0, 0, 0, 0.15);\n",
              "      filter: drop-shadow(0px 1px 2px rgba(0, 0, 0, 0.3));\n",
              "      fill: #FFFFFF;\n",
              "    }\n",
              "  </style>\n",
              "\n",
              "      <script>\n",
              "        const buttonEl =\n",
              "          document.querySelector('#df-2d011892-3f77-4bf0-b61c-fcd9814c9632 button.colab-df-convert');\n",
              "        buttonEl.style.display =\n",
              "          google.colab.kernel.accessAllowed ? 'block' : 'none';\n",
              "\n",
              "        async function convertToInteractive(key) {\n",
              "          const element = document.querySelector('#df-2d011892-3f77-4bf0-b61c-fcd9814c9632');\n",
              "          const dataTable =\n",
              "            await google.colab.kernel.invokeFunction('convertToInteractive',\n",
              "                                                     [key], {});\n",
              "          if (!dataTable) return;\n",
              "\n",
              "          const docLinkHtml = 'Like what you see? Visit the ' +\n",
              "            '<a target=\"_blank\" href=https://colab.research.google.com/notebooks/data_table.ipynb>data table notebook</a>'\n",
              "            + ' to learn more about interactive tables.';\n",
              "          element.innerHTML = '';\n",
              "          dataTable['output_type'] = 'display_data';\n",
              "          await google.colab.output.renderOutput(dataTable, element);\n",
              "          const docLink = document.createElement('div');\n",
              "          docLink.innerHTML = docLinkHtml;\n",
              "          element.appendChild(docLink);\n",
              "        }\n",
              "      </script>\n",
              "    </div>\n",
              "  </div>\n",
              "  "
            ]
          },
          "metadata": {},
          "execution_count": 6
        }
      ],
      "source": [
        "df.head()"
      ]
    },
    {
      "cell_type": "code",
      "execution_count": null,
      "id": "32d440f2",
      "metadata": {
        "id": "32d440f2"
      },
      "outputs": [],
      "source": [
        "df_test = df.sample(frac=0.15, replace=True, random_state=1)"
      ]
    },
    {
      "cell_type": "code",
      "source": [
        "df_test.shape"
      ],
      "metadata": {
        "colab": {
          "base_uri": "https://localhost:8080/"
        },
        "id": "VR4Yiz5dKxxk",
        "outputId": "fa569994-eaf8-403c-f109-3560f8ffb587"
      },
      "id": "VR4Yiz5dKxxk",
      "execution_count": null,
      "outputs": [
        {
          "output_type": "execute_result",
          "data": {
            "text/plain": [
              "(7500, 5)"
            ]
          },
          "metadata": {},
          "execution_count": 8
        }
      ]
    },
    {
      "cell_type": "code",
      "execution_count": null,
      "id": "74015b4a",
      "metadata": {
        "colab": {
          "base_uri": "https://localhost:8080/",
          "height": 206
        },
        "id": "74015b4a",
        "outputId": "635e5872-b74f-4c4b-acc5-e6b30534f0ee"
      },
      "outputs": [
        {
          "output_type": "execute_result",
          "data": {
            "text/plain": [
              "                                                      EN  \\\n",
              "33003  ['these', 'aggregate', 'values', 'shall', 'be'...   \n",
              "12172                                       ['whereas:']   \n",
              "5192   ['commission', 'regulation', '(ec)', 'no', '19...   \n",
              "32511  ['whether', 'the', 'products', 'concerned', 'a...   \n",
              "43723  ['complexul', 'de', 'porci', 'brăila', 'sa', '...   \n",
              "\n",
              "                                                      DE  ENCounter  \\\n",
              "33003  ['sie', 'teilen', 'diese', 'gesamtwerte', 'der...          9   \n",
              "12172     ['in', 'erwägung', 'nachstehender', 'gründe:']          1   \n",
              "5192   ['die', 'verordnung', '(eg)', 'nr.', '1961/200...         20   \n",
              "32511  ['angabe,', 'ob', 'es', 'sich', 'bei', 'den', ...         10   \n",
              "43723  ['complexul', 'de', 'porci', 'brăila', 'sa', '...         11   \n",
              "\n",
              "       DECounter  CountDiff  \n",
              "33003          7          2  \n",
              "12172          4          3  \n",
              "5192          18          2  \n",
              "32511         15          5  \n",
              "43723         10          1  "
            ],
            "text/html": [
              "\n",
              "  <div id=\"df-ec3387ea-6f66-4f78-bb33-d61d341f8be2\">\n",
              "    <div class=\"colab-df-container\">\n",
              "      <div>\n",
              "<style scoped>\n",
              "    .dataframe tbody tr th:only-of-type {\n",
              "        vertical-align: middle;\n",
              "    }\n",
              "\n",
              "    .dataframe tbody tr th {\n",
              "        vertical-align: top;\n",
              "    }\n",
              "\n",
              "    .dataframe thead th {\n",
              "        text-align: right;\n",
              "    }\n",
              "</style>\n",
              "<table border=\"1\" class=\"dataframe\">\n",
              "  <thead>\n",
              "    <tr style=\"text-align: right;\">\n",
              "      <th></th>\n",
              "      <th>EN</th>\n",
              "      <th>DE</th>\n",
              "      <th>ENCounter</th>\n",
              "      <th>DECounter</th>\n",
              "      <th>CountDiff</th>\n",
              "    </tr>\n",
              "  </thead>\n",
              "  <tbody>\n",
              "    <tr>\n",
              "      <th>33003</th>\n",
              "      <td>['these', 'aggregate', 'values', 'shall', 'be'...</td>\n",
              "      <td>['sie', 'teilen', 'diese', 'gesamtwerte', 'der...</td>\n",
              "      <td>9</td>\n",
              "      <td>7</td>\n",
              "      <td>2</td>\n",
              "    </tr>\n",
              "    <tr>\n",
              "      <th>12172</th>\n",
              "      <td>['whereas:']</td>\n",
              "      <td>['in', 'erwägung', 'nachstehender', 'gründe:']</td>\n",
              "      <td>1</td>\n",
              "      <td>4</td>\n",
              "      <td>3</td>\n",
              "    </tr>\n",
              "    <tr>\n",
              "      <th>5192</th>\n",
              "      <td>['commission', 'regulation', '(ec)', 'no', '19...</td>\n",
              "      <td>['die', 'verordnung', '(eg)', 'nr.', '1961/200...</td>\n",
              "      <td>20</td>\n",
              "      <td>18</td>\n",
              "      <td>2</td>\n",
              "    </tr>\n",
              "    <tr>\n",
              "      <th>32511</th>\n",
              "      <td>['whether', 'the', 'products', 'concerned', 'a...</td>\n",
              "      <td>['angabe,', 'ob', 'es', 'sich', 'bei', 'den', ...</td>\n",
              "      <td>10</td>\n",
              "      <td>15</td>\n",
              "      <td>5</td>\n",
              "    </tr>\n",
              "    <tr>\n",
              "      <th>43723</th>\n",
              "      <td>['complexul', 'de', 'porci', 'brăila', 'sa', '...</td>\n",
              "      <td>['complexul', 'de', 'porci', 'brăila', 'sa', '...</td>\n",
              "      <td>11</td>\n",
              "      <td>10</td>\n",
              "      <td>1</td>\n",
              "    </tr>\n",
              "  </tbody>\n",
              "</table>\n",
              "</div>\n",
              "      <button class=\"colab-df-convert\" onclick=\"convertToInteractive('df-ec3387ea-6f66-4f78-bb33-d61d341f8be2')\"\n",
              "              title=\"Convert this dataframe to an interactive table.\"\n",
              "              style=\"display:none;\">\n",
              "        \n",
              "  <svg xmlns=\"http://www.w3.org/2000/svg\" height=\"24px\"viewBox=\"0 0 24 24\"\n",
              "       width=\"24px\">\n",
              "    <path d=\"M0 0h24v24H0V0z\" fill=\"none\"/>\n",
              "    <path d=\"M18.56 5.44l.94 2.06.94-2.06 2.06-.94-2.06-.94-.94-2.06-.94 2.06-2.06.94zm-11 1L8.5 8.5l.94-2.06 2.06-.94-2.06-.94L8.5 2.5l-.94 2.06-2.06.94zm10 10l.94 2.06.94-2.06 2.06-.94-2.06-.94-.94-2.06-.94 2.06-2.06.94z\"/><path d=\"M17.41 7.96l-1.37-1.37c-.4-.4-.92-.59-1.43-.59-.52 0-1.04.2-1.43.59L10.3 9.45l-7.72 7.72c-.78.78-.78 2.05 0 2.83L4 21.41c.39.39.9.59 1.41.59.51 0 1.02-.2 1.41-.59l7.78-7.78 2.81-2.81c.8-.78.8-2.07 0-2.86zM5.41 20L4 18.59l7.72-7.72 1.47 1.35L5.41 20z\"/>\n",
              "  </svg>\n",
              "      </button>\n",
              "      \n",
              "  <style>\n",
              "    .colab-df-container {\n",
              "      display:flex;\n",
              "      flex-wrap:wrap;\n",
              "      gap: 12px;\n",
              "    }\n",
              "\n",
              "    .colab-df-convert {\n",
              "      background-color: #E8F0FE;\n",
              "      border: none;\n",
              "      border-radius: 50%;\n",
              "      cursor: pointer;\n",
              "      display: none;\n",
              "      fill: #1967D2;\n",
              "      height: 32px;\n",
              "      padding: 0 0 0 0;\n",
              "      width: 32px;\n",
              "    }\n",
              "\n",
              "    .colab-df-convert:hover {\n",
              "      background-color: #E2EBFA;\n",
              "      box-shadow: 0px 1px 2px rgba(60, 64, 67, 0.3), 0px 1px 3px 1px rgba(60, 64, 67, 0.15);\n",
              "      fill: #174EA6;\n",
              "    }\n",
              "\n",
              "    [theme=dark] .colab-df-convert {\n",
              "      background-color: #3B4455;\n",
              "      fill: #D2E3FC;\n",
              "    }\n",
              "\n",
              "    [theme=dark] .colab-df-convert:hover {\n",
              "      background-color: #434B5C;\n",
              "      box-shadow: 0px 1px 3px 1px rgba(0, 0, 0, 0.15);\n",
              "      filter: drop-shadow(0px 1px 2px rgba(0, 0, 0, 0.3));\n",
              "      fill: #FFFFFF;\n",
              "    }\n",
              "  </style>\n",
              "\n",
              "      <script>\n",
              "        const buttonEl =\n",
              "          document.querySelector('#df-ec3387ea-6f66-4f78-bb33-d61d341f8be2 button.colab-df-convert');\n",
              "        buttonEl.style.display =\n",
              "          google.colab.kernel.accessAllowed ? 'block' : 'none';\n",
              "\n",
              "        async function convertToInteractive(key) {\n",
              "          const element = document.querySelector('#df-ec3387ea-6f66-4f78-bb33-d61d341f8be2');\n",
              "          const dataTable =\n",
              "            await google.colab.kernel.invokeFunction('convertToInteractive',\n",
              "                                                     [key], {});\n",
              "          if (!dataTable) return;\n",
              "\n",
              "          const docLinkHtml = 'Like what you see? Visit the ' +\n",
              "            '<a target=\"_blank\" href=https://colab.research.google.com/notebooks/data_table.ipynb>data table notebook</a>'\n",
              "            + ' to learn more about interactive tables.';\n",
              "          element.innerHTML = '';\n",
              "          dataTable['output_type'] = 'display_data';\n",
              "          await google.colab.output.renderOutput(dataTable, element);\n",
              "          const docLink = document.createElement('div');\n",
              "          docLink.innerHTML = docLinkHtml;\n",
              "          element.appendChild(docLink);\n",
              "        }\n",
              "      </script>\n",
              "    </div>\n",
              "  </div>\n",
              "  "
            ]
          },
          "metadata": {},
          "execution_count": 9
        }
      ],
      "source": [
        "df_test.head()"
      ]
    },
    {
      "cell_type": "code",
      "execution_count": null,
      "id": "e8cfa1cf",
      "metadata": {
        "id": "e8cfa1cf"
      },
      "outputs": [],
      "source": [
        "cols = ['ENCounter', 'DECounter', 'CountDiff']\n",
        "df_test[cols] = df_test[cols].apply(pd.to_numeric, errors='coerce', axis=1)"
      ]
    },
    {
      "cell_type": "code",
      "execution_count": null,
      "id": "6a3a05d1",
      "metadata": {
        "id": "6a3a05d1",
        "colab": {
          "base_uri": "https://localhost:8080/"
        },
        "outputId": "7d41bf19-4bf1-404a-8ecf-6e854ba0c6fb"
      },
      "outputs": [
        {
          "output_type": "stream",
          "name": "stdout",
          "text": [
            "<class 'pandas.core.frame.DataFrame'>\n",
            "Int64Index: 7500 entries, 33003 to 41347\n",
            "Data columns (total 5 columns):\n",
            " #   Column     Non-Null Count  Dtype \n",
            "---  ------     --------------  ----- \n",
            " 0   EN         7500 non-null   object\n",
            " 1   DE         7500 non-null   object\n",
            " 2   ENCounter  7500 non-null   int64 \n",
            " 3   DECounter  7500 non-null   int64 \n",
            " 4   CountDiff  7500 non-null   int64 \n",
            "dtypes: int64(3), object(2)\n",
            "memory usage: 351.6+ KB\n"
          ]
        }
      ],
      "source": [
        "df_test.info()"
      ]
    },
    {
      "cell_type": "markdown",
      "id": "ed22b7d4",
      "metadata": {
        "id": "ed22b7d4"
      },
      "source": [
        "### Model Preparation"
      ]
    },
    {
      "cell_type": "code",
      "execution_count": null,
      "id": "049b4273",
      "metadata": {
        "id": "049b4273"
      },
      "outputs": [],
      "source": [
        "import collections\n",
        "\n",
        "from keras.preprocessing.text import Tokenizer\n",
        "from keras_preprocessing.sequence import pad_sequences\n",
        "from keras.models import Model, Sequential\n",
        "from keras.layers import GRU, Input, Dense, TimeDistributed, Activation, RepeatVector, Bidirectional, Dropout, LSTM\n",
        "#from keras.layers.embeddings import Embedding\n",
        "from keras.optimizers import Adam\n",
        "from keras.losses import sparse_categorical_crossentropy"
      ]
    },
    {
      "cell_type": "code",
      "execution_count": null,
      "id": "5333571d",
      "metadata": {
        "id": "5333571d",
        "colab": {
          "base_uri": "https://localhost:8080/"
        },
        "outputId": "703abc92-0d03-4b41-e5be-b7b72f992021"
      },
      "outputs": [
        {
          "output_type": "stream",
          "name": "stdout",
          "text": [
            "{\"'the'\": 1, \"'\": 2, \"'for'\": 3, \"'to'\": 4, \"'commission'\": 5, \"'regulation'\": 6, 'ec': 7, \"'no'\": 8, \"'of'\": 9, \"'invitation'\": 10, \"'tender'\": 11, \"'european'\": 12, \"'1788\": 13, \"2004'\": 14, \"'15'\": 15, \"'october'\": 16, \"'2004'\": 17, \"'fixing'\": 18, \"'minimum'\": 19, \"'selling'\": 20, \"'prices'\": 21, \"'butter'\": 22, \"'150th'\": 23, \"'individual'\": 24, \"'under'\": 25, \"'standing'\": 26, \"'provided'\": 27, \"'in'\": 28, \"'2571\": 29, \"97'\": 30, \"'communities\": 31, \"'having'\": 32, \"'regard'\": 33, \"'treaty'\": 34, \"'establishing'\": 35, \"'community\": 36}\n",
            "Sequence 1 in x\n",
            "  Input:  ['commission', 'regulation', '(ec)', 'no', '1788/2004']\n",
            "  Output: [5, 6, 2, 7, 2, 8, 13, 14]\n",
            "Sequence 2 in x\n",
            "  Input:  ['of', '15', 'october', '2004']\n",
            "  Output: [9, 15, 16, 17]\n",
            "Sequence 3 in x\n",
            "  Input:  ['fixing', 'the', 'minimum', 'selling', 'prices', 'for', 'butter', 'for', 'the', '150th', 'individual', 'invitation', 'to', 'tender', 'under', 'the', 'standing', 'invitation', 'to', 'tender', 'provided', 'for', 'in', 'regulation', '(ec)', 'no', '2571/97']\n",
            "  Output: [18, 1, 19, 20, 21, 3, 22, 3, 1, 23, 24, 10, 4, 11, 25, 1, 26, 10, 4, 11, 27, 3, 28, 6, 2, 7, 2, 8, 29, 30]\n",
            "Sequence 4 in x\n",
            "  Input:  ['the', 'commission', 'of', 'the', 'european', 'communities,']\n",
            "  Output: [1, 5, 9, 1, 12, 31, 2]\n",
            "Sequence 5 in x\n",
            "  Input:  ['having', 'regard', 'to', 'the', 'treaty', 'establishing', 'the', 'european', 'community,']\n",
            "  Output: [32, 33, 4, 1, 34, 35, 1, 12, 36, 2]\n"
          ]
        }
      ],
      "source": [
        "# Tokenizer - to prep data for RNN\n",
        "def tokenize(x):\n",
        "    tokenizer = Tokenizer()\n",
        "    tokenizer.fit_on_texts(x)\n",
        "    return tokenizer.texts_to_sequences(x), tokenizer\n",
        "#Test\n",
        "test = df.iloc[:5,0]\n",
        "text_tokenized, text_tokenizer = tokenize(test)\n",
        "print(text_tokenizer.word_index)\n",
        "for sample_i, (sent, token_sent) in enumerate(zip(test, text_tokenized)):\n",
        "    print('Sequence {} in x'.format(sample_i + 1))\n",
        "    print('  Input:  {}'.format(sent))\n",
        "    print('  Output: {}'.format(token_sent))"
      ]
    },
    {
      "cell_type": "code",
      "execution_count": null,
      "id": "64594aa1",
      "metadata": {
        "id": "64594aa1",
        "colab": {
          "base_uri": "https://localhost:8080/"
        },
        "outputId": "53111098-725a-4639-e50a-10b556ed1227"
      },
      "outputs": [
        {
          "output_type": "stream",
          "name": "stdout",
          "text": [
            "Sequence 1 in x\n",
            "  Input:  [ 5  6  2  7  2  8 13 14]\n",
            "  Output: [ 5  6  2  7  2  8 13 14  0  0  0  0  0  0  0  0  0  0  0  0  0  0  0  0\n",
            "  0  0  0  0  0  0]\n",
            "Sequence 2 in x\n",
            "  Input:  [ 9 15 16 17]\n",
            "  Output: [ 9 15 16 17  0  0  0  0  0  0  0  0  0  0  0  0  0  0  0  0  0  0  0  0\n",
            "  0  0  0  0  0  0]\n",
            "Sequence 3 in x\n",
            "  Input:  [18  1 19 20 21  3 22  3  1 23 24 10  4 11 25  1 26 10  4 11 27  3 28  6\n",
            "  2  7  2  8 29 30]\n",
            "  Output: [18  1 19 20 21  3 22  3  1 23 24 10  4 11 25  1 26 10  4 11 27  3 28  6\n",
            "  2  7  2  8 29 30]\n",
            "Sequence 4 in x\n",
            "  Input:  [ 1  5  9  1 12 31  2]\n",
            "  Output: [ 1  5  9  1 12 31  2  0  0  0  0  0  0  0  0  0  0  0  0  0  0  0  0  0\n",
            "  0  0  0  0  0  0]\n",
            "Sequence 5 in x\n",
            "  Input:  [32 33  4  1 34 35  1 12 36  2]\n",
            "  Output: [32 33  4  1 34 35  1 12 36  2  0  0  0  0  0  0  0  0  0  0  0  0  0  0\n",
            "  0  0  0  0  0  0]\n"
          ]
        }
      ],
      "source": [
        "# Pad function to standardize the length of the sentences \n",
        "def pad(x, length=None):\n",
        "    return pad_sequences(x, maxlen=length, padding='post')\n",
        "\n",
        "#Test\n",
        "test_pad = pad(text_tokenized)\n",
        "for sample_i, (token_sent, pad_sent) in enumerate(zip(text_tokenized, test_pad)):\n",
        "    print('Sequence {} in x'.format(sample_i + 1))\n",
        "    print('  Input:  {}'.format(np.array(token_sent)))\n",
        "    print('  Output: {}'.format(pad_sent))"
      ]
    },
    {
      "cell_type": "code",
      "source": [
        "from sklearn.model_selection import train_test_split\n",
        "\n",
        "X = df['EN']\n",
        "y = df['DE']\n",
        "\n",
        "X_train, X_test, y_train, y_test = train_test_split(X, y, test_size=0.85, random_state=42)"
      ],
      "metadata": {
        "id": "RLjbbcGm9k7l"
      },
      "id": "RLjbbcGm9k7l",
      "execution_count": null,
      "outputs": []
    },
    {
      "cell_type": "code",
      "execution_count": null,
      "id": "18f99aa5",
      "metadata": {
        "id": "18f99aa5",
        "colab": {
          "base_uri": "https://localhost:8080/"
        },
        "outputId": "28655e54-0e49-47a4-83ee-4cfdfde3287e"
      },
      "outputs": [
        {
          "output_type": "stream",
          "name": "stdout",
          "text": [
            "Data Preprocessed\n",
            "Max English sentence length: 212\n",
            "Max German sentence length: 203\n",
            "English vocabulary size: 11364\n",
            "German vocabulary size: 15938\n"
          ]
        }
      ],
      "source": [
        "# Preprocess function\n",
        "def preprocess(x,y):\n",
        "    preprocess_x, x_token = tokenize(x)\n",
        "    preprocess_y, y_token = tokenize(y)\n",
        "    \n",
        "    preprocess_x = pad(preprocess_x)\n",
        "    preprocess_y = pad(preprocess_y)\n",
        "    \n",
        "    # Keras's sparse_categorical_crossentropy function requires the labels to be in 3 dimensions\n",
        "    preprocess_y = preprocess_y.reshape(*preprocess_y.shape, 1)\n",
        "   \n",
        "    return preprocess_x, preprocess_y, x_token, y_token \n",
        "\n",
        "#Apply to data\n",
        "pre_EN, pre_DE, EN_token, DE_token= preprocess(X_train, y_train)\n",
        "\n",
        "max_EN_length = pre_EN.shape[1]\n",
        "max_DE_length = pre_DE.shape[1]\n",
        "EN_vocab_size = len(EN_token.word_index)\n",
        "DE_vocab_size = len(DE_token.word_index)\n",
        "\n",
        "print('Data Preprocessed')\n",
        "print(\"Max English sentence length:\", max_EN_length)\n",
        "print(\"Max German sentence length:\", max_DE_length)\n",
        "print(\"English vocabulary size:\", EN_vocab_size)\n",
        "print(\"German vocabulary size:\", DE_vocab_size)"
      ]
    },
    {
      "cell_type": "code",
      "execution_count": null,
      "id": "4d370bff",
      "metadata": {
        "id": "4d370bff"
      },
      "outputs": [],
      "source": [
        "# Function to give the German translation\n",
        "def logits_to_text(logits, tokenizer):\n",
        "    \"\"\"\n",
        "    Turn logits from a neural network into text using the tokenizer\n",
        "    :param logits: Logits from a neural network\n",
        "    :param tokenizer: Keras Tokenizer fit on the labels\n",
        "    :return: String that represents the text of the logits\n",
        "    \"\"\"\n",
        "    index_to_words = {id: word for word, id in tokenizer.word_index.items()}\n",
        "    index_to_words[0] = ''\n",
        "\n",
        "    return ' '.join([index_to_words[prediction] for prediction in np.argmax(logits, 1)])"
      ]
    },
    {
      "cell_type": "code",
      "execution_count": null,
      "id": "9aedef6e",
      "metadata": {
        "id": "9aedef6e",
        "colab": {
          "base_uri": "https://localhost:8080/"
        },
        "outputId": "b07d8528-f417-448c-889a-31c46b6a0c6a"
      },
      "outputs": [
        {
          "output_type": "stream",
          "name": "stdout",
          "text": [
            "Model: \"sequential_4\"\n",
            "_________________________________________________________________\n",
            " Layer (type)                Output Shape              Param #   \n",
            "=================================================================\n",
            " gru_4 (GRU)                 (None, 203, 256)          198912    \n",
            "                                                                 \n",
            " time_distributed_8 (TimeDis  (None, 203, 1024)        263168    \n",
            " tributed)                                                       \n",
            "                                                                 \n",
            " dropout_4 (Dropout)         (None, 203, 1024)         0         \n",
            "                                                                 \n",
            " time_distributed_9 (TimeDis  (None, 203, 15938)       16336450  \n",
            " tributed)                                                       \n",
            "                                                                 \n",
            "=================================================================\n",
            "Total params: 16,798,530\n",
            "Trainable params: 16,798,530\n",
            "Non-trainable params: 0\n",
            "_________________________________________________________________\n",
            "None\n",
            "Epoch 1/10\n",
            "12/12 [==============================] - 8s 525ms/step - loss: 3.7391 - accuracy: 0.8967 - val_loss: nan - val_accuracy: 0.9082\n",
            "Epoch 2/10\n",
            "12/12 [==============================] - 6s 491ms/step - loss: 0.7374 - accuracy: 0.9108 - val_loss: nan - val_accuracy: 0.9127\n",
            "Epoch 3/10\n",
            "12/12 [==============================] - 6s 490ms/step - loss: 0.7011 - accuracy: 0.9128 - val_loss: nan - val_accuracy: 0.9129\n",
            "Epoch 4/10\n",
            "12/12 [==============================] - 6s 490ms/step - loss: 0.6721 - accuracy: 0.9132 - val_loss: nan - val_accuracy: 0.9133\n",
            "Epoch 5/10\n",
            "12/12 [==============================] - 6s 489ms/step - loss: 0.6531 - accuracy: 0.9135 - val_loss: nan - val_accuracy: 0.9133\n",
            "Epoch 6/10\n",
            "12/12 [==============================] - 6s 489ms/step - loss: 0.6450 - accuracy: 0.9135 - val_loss: nan - val_accuracy: 0.9135\n",
            "Epoch 7/10\n",
            "12/12 [==============================] - 6s 490ms/step - loss: 0.6398 - accuracy: 0.9138 - val_loss: nan - val_accuracy: 0.9135\n",
            "Epoch 8/10\n",
            "12/12 [==============================] - 6s 490ms/step - loss: 0.6341 - accuracy: 0.9139 - val_loss: nan - val_accuracy: 0.9136\n",
            "Epoch 9/10\n",
            "12/12 [==============================] - 6s 490ms/step - loss: 0.6287 - accuracy: 0.9139 - val_loss: nan - val_accuracy: 0.9137\n",
            "Epoch 10/10\n",
            "12/12 [==============================] - 6s 490ms/step - loss: 0.6259 - accuracy: 0.9139 - val_loss: nan - val_accuracy: 0.9137\n",
            "1/1 [==============================] - 0s 307ms/step\n",
            "'artikel'                                                                                                                                                                                                          \n"
          ]
        }
      ],
      "source": [
        "# Model builder\n",
        "def simple_model(input_shape, output_sequence_length, english_vocab_size, german_vocab_size):\n",
        "    learning_rate = 0.005\n",
        "    model = Sequential()\n",
        "    model.add(GRU(256, input_shape=input_shape[1:], return_sequences=True))\n",
        "    model.add(TimeDistributed(Dense(1024, activation='relu')))\n",
        "    model.add(Dropout(0.5))\n",
        "    model.add(TimeDistributed(Dense(german_vocab_size, activation='softmax'))) \n",
        "\n",
        "    # Compile model\n",
        "    model.compile(loss=sparse_categorical_crossentropy,\n",
        "                  optimizer=Adam(learning_rate),\n",
        "                  metrics=['accuracy'])\n",
        "    return model\n",
        "\n",
        "# Reshaping the input to work with a basic RNN\n",
        "tmp_x = pad(pre_EN, max_DE_length)\n",
        "tmp_x = tmp_x.reshape((-1, pre_DE.shape[-2], 1))\n",
        "\n",
        "# Train the neural network\n",
        "simple_rnn_model = simple_model(\n",
        "    tmp_x.shape,\n",
        "    max_DE_length,\n",
        "    EN_vocab_size,\n",
        "    DE_vocab_size)\n",
        "\n",
        "print(simple_rnn_model.summary())\n",
        "\n",
        "simple_rnn_model.fit(tmp_x, pre_DE, batch_size=512, epochs=10, validation_split=0.2)\n",
        "\n",
        "# Print prediction(s)\n",
        "print(logits_to_text(simple_rnn_model.predict(tmp_x[:1])[0], DE_token))"
      ]
    },
    {
      "cell_type": "code",
      "source": [
        "tmp_x.shape"
      ],
      "metadata": {
        "id": "MpCa0MO_FzVZ",
        "colab": {
          "base_uri": "https://localhost:8080/"
        },
        "outputId": "1819a10b-5cf3-4452-acf6-7f48290421ec"
      },
      "id": "MpCa0MO_FzVZ",
      "execution_count": null,
      "outputs": [
        {
          "output_type": "execute_result",
          "data": {
            "text/plain": [
              "(7500, 203, 1)"
            ]
          },
          "metadata": {},
          "execution_count": 44
        }
      ]
    },
    {
      "cell_type": "code",
      "source": [],
      "metadata": {
        "colab": {
          "base_uri": "https://localhost:8080/"
        },
        "id": "Pe5iTrMtFSfC",
        "outputId": "c1bf3f39-0b52-4d17-c058-0ccb3c560b47"
      },
      "id": "Pe5iTrMtFSfC",
      "execution_count": null,
      "outputs": [
        {
          "output_type": "execute_result",
          "data": {
            "text/plain": [
              "<keras.preprocessing.text.Tokenizer at 0x7fda50bd30d0>"
            ]
          },
          "metadata": {},
          "execution_count": 65
        }
      ]
    },
    {
      "cell_type": "code",
      "source": [
        "# Print prediction(s)\n",
        "print(\"Prediction:\")\n",
        "print(logits_to_text(simple_rnn_model.predict(tmp_x[:1])[0], DE_token))\n",
        "print(' ')\n",
        "print('Correct German translation: ', y_train[:2])\n",
        "print(' ')\n",
        "print('Original English text: ', X_train[:1])"
      ],
      "metadata": {
        "id": "dm5VbbEzB-n2",
        "colab": {
          "base_uri": "https://localhost:8080/"
        },
        "outputId": "199e64a7-ad8f-4288-da9d-97b0cf293611"
      },
      "id": "dm5VbbEzB-n2",
      "execution_count": 72,
      "outputs": [
        {
          "output_type": "stream",
          "name": "stdout",
          "text": [
            "Prediction:\n",
            "1/1 [==============================] - 0s 23ms/step\n",
            "'artikel'                                                                                                                                                                                                          \n",
            " \n",
            "Correct German translation:  48243                                     ['artikel', '1']\n",
            "3057     ['das', 'im', 'innern', 'des', 'packstücks', '...\n",
            "Name: DE, dtype: object\n",
            " \n",
            "Original English text:  48243    ['article', '1']\n",
            "Name: EN, dtype: object\n"
          ]
        }
      ]
    }
  ],
  "metadata": {
    "kernelspec": {
      "display_name": "Python 3 (ipykernel)",
      "language": "python",
      "name": "python3"
    },
    "language_info": {
      "codemirror_mode": {
        "name": "ipython",
        "version": 3
      },
      "file_extension": ".py",
      "mimetype": "text/x-python",
      "name": "python",
      "nbconvert_exporter": "python",
      "pygments_lexer": "ipython3",
      "version": "3.10.8"
    },
    "colab": {
      "provenance": [],
      "machine_shape": "hm"
    },
    "gpuClass": "premium",
    "accelerator": "GPU"
  },
  "nbformat": 4,
  "nbformat_minor": 5
}